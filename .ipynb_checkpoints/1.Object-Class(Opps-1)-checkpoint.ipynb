{
 "cells": [
  {
   "cell_type": "markdown",
   "id": "1889e8ba",
   "metadata": {},
   "source": [
    "<img src=\"https://thumbs.gfycat.com/DifficultLimpingBubblefish-max-1mb.gif\" width=200 />"
   ]
  },
  {
   "cell_type": "code",
   "execution_count": 1,
   "id": "a10d6a34",
   "metadata": {},
   "outputs": [],
   "source": [
    "l=[1,2,3]\n",
    "city=\"patna\""
   ]
  },
  {
   "cell_type": "code",
   "execution_count": 2,
   "id": "3ded1b4b",
   "metadata": {},
   "outputs": [
    {
     "data": {
      "text/plain": [
       "'PATNA'"
      ]
     },
     "execution_count": 2,
     "metadata": {},
     "output_type": "execute_result"
    }
   ],
   "source": [
    "city.upper()"
   ]
  },
  {
   "cell_type": "code",
   "execution_count": 3,
   "id": "9851cd10",
   "metadata": {},
   "outputs": [
    {
     "ename": "AttributeError",
     "evalue": "'list' object has no attribute 'upper'",
     "output_type": "error",
     "traceback": [
      "\u001b[0;31m---------------------------------------------------------------------------\u001b[0m",
      "\u001b[0;31mAttributeError\u001b[0m                            Traceback (most recent call last)",
      "\u001b[0;32m/tmp/ipykernel_200763/447581512.py\u001b[0m in \u001b[0;36m<module>\u001b[0;34m\u001b[0m\n\u001b[0;32m----> 1\u001b[0;31m \u001b[0ml\u001b[0m\u001b[0;34m.\u001b[0m\u001b[0mupper\u001b[0m\u001b[0;34m(\u001b[0m\u001b[0;34m)\u001b[0m\u001b[0;34m\u001b[0m\u001b[0;34m\u001b[0m\u001b[0m\n\u001b[0m",
      "\u001b[0;31mAttributeError\u001b[0m: 'list' object has no attribute 'upper'"
     ]
    }
   ],
   "source": [
    "l.upper()"
   ]
  },
  {
   "cell_type": "code",
   "execution_count": null,
   "id": "b274865c",
   "metadata": {},
   "outputs": [],
   "source": [
    "l.remove(1)\n",
    "l "
   ]
  },
  {
   "cell_type": "code",
   "execution_count": null,
   "id": "5ab93f89",
   "metadata": {},
   "outputs": [],
   "source": [
    "city.remove()"
   ]
  },
  {
   "cell_type": "code",
   "execution_count": null,
   "id": "b03b1801",
   "metadata": {},
   "outputs": [],
   "source": [
    "a=True\n",
    "a.remove(\"T\")"
   ]
  },
  {
   "cell_type": "markdown",
   "id": "ba848e72",
   "metadata": {},
   "source": [
    "# Python tell  my every variable is object.whenever i remove a=True a.remove(\"T\") They throw an error object has no attribute 'remove' . And every object is unique in the sense of attribute(function) means every object has unique attribute.<br> In python everything is an object."
   ]
  },
  {
   "cell_type": "markdown",
   "id": "40b508ed",
   "metadata": {},
   "source": [
    "<img src=\"https://www.machinelearningplus.com/wp-content/uploads/2021/04/step-4.svg\" />"
   ]
  },
  {
   "cell_type": "markdown",
   "id": "07e5933f",
   "metadata": {},
   "source": [
    "# Object-Oriented-Programming is the great technique using which a programmer can able to create own data type."
   ]
  },
  {
   "cell_type": "markdown",
   "id": "2841ada3",
   "metadata": {},
   "source": [
    "<img src=\"https://encrypted-tbn0.gstatic.com/images?q=tbn:ANd9GcTgRCgBxfd48-uol73sFuChadqP9MKfy9C1xw&usqp=CAU\" />"
   ]
  },
  {
   "cell_type": "markdown",
   "id": "14913fab",
   "metadata": {},
   "source": [
    "int x = 5\n",
    "\n",
    "- int is class\n",
    "- x is object\n",
    "- in general we call it variable but in python it is call object,so we can say that x is an object of int class."
   ]
  },
  {
   "cell_type": "markdown",
   "id": "699358a0",
   "metadata": {},
   "source": [
    "- l1=[1,2,3,4,5]\n",
    "- type(l1)\n",
    "- l1 is the object of  List class."
   ]
  },
  {
   "cell_type": "markdown",
   "id": "26227322",
   "metadata": {},
   "source": [
    "# A Class is like a \"blueprint\" for creating objects.<br>\n",
    "- In simple word datatype is a class.\n",
    "    - In simple word datatype is a class, and using datatype(class) we create an object."
   ]
  },
  {
   "cell_type": "code",
   "execution_count": null,
   "id": "21e30dde",
   "metadata": {},
   "outputs": [],
   "source": [
    "l1=[1,2,3,4,5] # l1 is object."
   ]
  },
  {
   "cell_type": "code",
   "execution_count": null,
   "id": "9f010370",
   "metadata": {},
   "outputs": [],
   "source": [
    "print(type(l1)) # list is a class."
   ]
  },
  {
   "cell_type": "markdown",
   "id": "0b44e02b",
   "metadata": {},
   "source": [
    "- if we want to create our own class then we put only two things in the class.\n",
    "    - Data or property\n",
    "    - Function and behavior"
   ]
  },
  {
   "cell_type": "markdown",
   "id": "9a1a8d78",
   "metadata": {},
   "source": [
    "#  - A Class is like a \"blueprint\" for creating objects.<br>- Object is an instance of the class."
   ]
  },
  {
   "cell_type": "markdown",
   "id": "522979fa",
   "metadata": {},
   "source": [
    "        Class                            Object\n",
    "        -----                            ------\n",
    "        Car                              Wagonr   //wagonr=Car()\n",
    "        Sport                            Gilli_Danda // gill_danda=Sport()\n",
    "        Animal                           Langoor   // langoor=Animal()\n",
    "        LinearRegression                 lr        // lr=LinearRegression()"
   ]
  },
  {
   "cell_type": "markdown",
   "id": "5ace0fcd",
   "metadata": {},
   "source": [
    "<img src=\"https://www.learnbyexample.org/wp-content/uploads/python/Class-Object-Illustration.png\" />"
   ]
  },
  {
   "cell_type": "markdown",
   "id": "c54c5c93",
   "metadata": {},
   "source": [
    "- Each car was built from the same set of blueprints and therefore contains the same components. In object-oriented terms, we say that your car(Wagonr) is an instance (object) of the class Car."
   ]
  },
  {
   "cell_type": "markdown",
   "id": "934cd046",
   "metadata": {},
   "source": [
    "Did you know?\n",
    "\n",
    "In Python, everything is an object – integers, strings, lists, functions, even classes themselves.\n",
    "\n",
    "However, Python hides the object machinery with the help of special syntax.\n",
    "\n",
    "For example, when you type num = 42, Python actually creates a new object of type integer with the value 42, and assign its reference to the name num."
   ]
  },
  {
   "cell_type": "markdown",
   "id": "4ca0712c",
   "metadata": {},
   "source": [
    "        Class                            Object\n",
    "        -----                            ------\n",
    "        Car                              Wagonr   //wagonr=Car()\n",
    "        Sport                            Gilli_Danda // gill_danda=Sport()\n",
    "        Animal                           Langoor   // langoor=Animal()\n",
    "        LinearRegression                 lr        // lr=LinearRegression()"
   ]
  },
  {
   "cell_type": "code",
   "execution_count": null,
   "id": "0bfceba4",
   "metadata": {},
   "outputs": [],
   "source": [
    "l1=[1,2,3,4,5]\n",
    "l1"
   ]
  },
  {
   "cell_type": "code",
   "execution_count": null,
   "id": "61fc3d38",
   "metadata": {},
   "outputs": [],
   "source": [
    "l5 = list()\n",
    "l5"
   ]
  },
  {
   "cell_type": "code",
   "execution_count": null,
   "id": "e2b2b4ae",
   "metadata": {},
   "outputs": [],
   "source": [
    "l6 = list([1,2,3,4,5])\n",
    "l6"
   ]
  },
  {
   "cell_type": "code",
   "execution_count": null,
   "id": "aef4c34e",
   "metadata": {},
   "outputs": [],
   "source": [
    "a=int() # We make an object (a) of integer class.\n",
    "a"
   ]
  },
  {
   "cell_type": "markdown",
   "id": "7bab9b4a",
   "metadata": {},
   "source": [
    "## Create a Class, Using Class Keyword we can define a Class."
   ]
  },
  {
   "cell_type": "code",
   "execution_count": null,
   "id": "2a7eb1b0",
   "metadata": {},
   "outputs": [],
   "source": [
    "# First Latter of the class name should be capital but not mandatory.\n",
    "class Car:\n",
    "    pass"
   ]
  },
  {
   "cell_type": "markdown",
   "id": "9e07caa1",
   "metadata": {},
   "source": [
    "- Let's make a class of Car."
   ]
  },
  {
   "cell_type": "code",
   "execution_count": 4,
   "id": "5e66330c",
   "metadata": {},
   "outputs": [],
   "source": [
    "class Car:\n",
    "    # Data\n",
    "    color=None \n",
    "    top_speed=None \n",
    "    \n",
    "    # Function\n",
    "    def get_info(self,x,y):\n",
    "        \"\"\"\n",
    "        This will take Color of Car in x and Speed of Car in y.\n",
    "        \"\"\"\n",
    "        self.color=x\n",
    "        self.top_speed=y\n",
    "        \n",
    "        print(\"You have a\",self.color,\"car can with a top speed of\",self.top_speed)\n",
    "    \n",
    "    def calAvgSpeed(self,km,t):\n",
    "        \"\"\"\n",
    "        Give km and time and i will give you the speed of the car.\n",
    "        \"\"\"\n",
    "        \n",
    "        speed=float(km/t) \n",
    "        \n",
    "        print(\"Speed of car\",speed)"
   ]
  },
  {
   "cell_type": "code",
   "execution_count": 5,
   "id": "d65993c3",
   "metadata": {},
   "outputs": [],
   "source": [
    "wagonr=Car()"
   ]
  },
  {
   "cell_type": "code",
   "execution_count": 6,
   "id": "11bdead1",
   "metadata": {},
   "outputs": [
    {
     "name": "stdout",
     "output_type": "stream",
     "text": [
      "You have a red car can with a top speed of 60\n"
     ]
    }
   ],
   "source": [
    "wagonr.get_info(\"red\",60)"
   ]
  },
  {
   "cell_type": "code",
   "execution_count": 7,
   "id": "2f0b68be",
   "metadata": {},
   "outputs": [
    {
     "name": "stdout",
     "output_type": "stream",
     "text": [
      "Speed of car 2.0\n"
     ]
    }
   ],
   "source": [
    "wagonr.calAvgSpeed(10,5)"
   ]
  },
  {
   "cell_type": "markdown",
   "id": "02df7a21",
   "metadata": {},
   "source": [
    "- Save Above class in the python lib folder with car.py name."
   ]
  },
  {
   "cell_type": "code",
   "execution_count": 8,
   "id": "fba8a988",
   "metadata": {},
   "outputs": [],
   "source": [
    "import car"
   ]
  },
  {
   "cell_type": "code",
   "execution_count": 9,
   "id": "a32c280a",
   "metadata": {},
   "outputs": [],
   "source": [
    "audi=car.Car() # audi is the object of Car class."
   ]
  },
  {
   "cell_type": "code",
   "execution_count": 10,
   "id": "b3ba1095",
   "metadata": {},
   "outputs": [
    {
     "name": "stdout",
     "output_type": "stream",
     "text": [
      "You have a red car can with a top speed of 50\n"
     ]
    }
   ],
   "source": [
    "audi.get_info(\"red\",50)"
   ]
  },
  {
   "cell_type": "code",
   "execution_count": 11,
   "id": "87a2b724",
   "metadata": {},
   "outputs": [
    {
     "name": "stdout",
     "output_type": "stream",
     "text": [
      "Speed of car 2.0\n"
     ]
    }
   ],
   "source": [
    "audi.calAvgSpeed(10,5)"
   ]
  },
  {
   "cell_type": "code",
   "execution_count": 12,
   "id": "ad68b1d3",
   "metadata": {},
   "outputs": [],
   "source": [
    "l1 = list()"
   ]
  },
  {
   "cell_type": "code",
   "execution_count": 13,
   "id": "60747dfd",
   "metadata": {},
   "outputs": [],
   "source": [
    "# l1. # After press dot(.) you will find all function whatever in the list class."
   ]
  },
  {
   "cell_type": "code",
   "execution_count": 14,
   "id": "60d1042d",
   "metadata": {},
   "outputs": [],
   "source": [
    "maruti = car.Car()"
   ]
  },
  {
   "cell_type": "code",
   "execution_count": 15,
   "id": "bcda6bb0",
   "metadata": {},
   "outputs": [
    {
     "name": "stdout",
     "output_type": "stream",
     "text": [
      "Speed of car 1.1111111111111112\n"
     ]
    }
   ],
   "source": [
    "maruti.calAvgSpeed(100,90)"
   ]
  },
  {
   "cell_type": "markdown",
   "id": "c3c858cd",
   "metadata": {},
   "source": [
    "<img src=\"data:image/jpeg;base64,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\" />"
   ]
  },
  {
   "cell_type": "code",
   "execution_count": 17,
   "id": "35b86074",
   "metadata": {},
   "outputs": [],
   "source": [
    "class Atm:\n",
    "    # Data\n",
    "    pin=None\n",
    "    bal=0\n",
    "    \n",
    "    # Function\n",
    "    def activate_card(self):\n",
    "        print(\"Hi welcome to SBI bank\")\n",
    "        self.pin=input(\"Enter your 4 digit pin: \") # access class variable use self.\n",
    "        print(\"Congrsts Your pin is created\")\n",
    "        \n",
    "    def checkBalance(self):\n",
    "        temp = input(\"Enter Your 4 digit number\")\n",
    "        if temp==self.pin:\n",
    "            print(\"Your Current Balance Is: \",self.bal)\n",
    "        else:\n",
    "            print(\"Invalid Pin\")\n",
    "    def deposite(self):\n",
    "        temp = input(\"Enter Your 4 digit number\")\n",
    "        if temp==self.pin:\n",
    "            ammout=int(input(\"Enter Your Ammount\"))\n",
    "            self.bal=self.bal+ammout\n",
    "            print(\"Deposite Sucessfully\")\n",
    "        else:\n",
    "            print(\"Invalid Pin\")\n",
    "            \n",
    "    def withdraw(self):\n",
    "        temp = input(\"Enter Your 4 digit number\")\n",
    "        if temp==self.pin:\n",
    "            ammout=int(input(\"Enter Your Ammount\"))\n",
    "            if ammout < self.bal:\n",
    "                self.bal=self.bal-ammout\n",
    "                print(\"Sucessfully Withdraw\",ammout)\n",
    "            else:\n",
    "                print(\"insufficient Balance\")\n",
    "        else:\n",
    "            print(\"Invalid Pin\")"
   ]
  },
  {
   "cell_type": "code",
   "execution_count": 69,
   "id": "9dcd5a38",
   "metadata": {},
   "outputs": [
    {
     "name": "stdout",
     "output_type": "stream",
     "text": [
      "Hi welcome to SBI bank\n",
      "Enter your 4 digit pin: 5665\n",
      "Congrsts Your pin is created\n"
     ]
    }
   ],
   "source": [
    "shivam = Atm()"
   ]
  },
  {
   "cell_type": "code",
   "execution_count": 23,
   "id": "d6f1eef6",
   "metadata": {},
   "outputs": [
    {
     "name": "stdout",
     "output_type": "stream",
     "text": [
      "Hi welcome to SBI bank\n",
      "Enter your 4 digit pin5555\n",
      "Congrsts Your pin is created\n"
     ]
    }
   ],
   "source": [
    "shivam.activate_card()"
   ]
  },
  {
   "cell_type": "markdown",
   "id": "e9ba0a33",
   "metadata": {},
   "source": [
    "- Save Above class in the python lib folder with sbi.py name."
   ]
  },
  {
   "cell_type": "code",
   "execution_count": 25,
   "id": "9a8c3891",
   "metadata": {},
   "outputs": [],
   "source": [
    "import sbi"
   ]
  },
  {
   "cell_type": "code",
   "execution_count": 27,
   "id": "dda43d38",
   "metadata": {},
   "outputs": [],
   "source": [
    "shivam = sbi.Atm()"
   ]
  },
  {
   "cell_type": "code",
   "execution_count": 31,
   "id": "34c2281b",
   "metadata": {},
   "outputs": [
    {
     "name": "stdout",
     "output_type": "stream",
     "text": [
      "Hi welcome to SBI bank\n",
      "Enter your 4 digit pin: 5656\n",
      "Congrsts Your pin is created\n"
     ]
    }
   ],
   "source": [
    "shivam.activate_card()"
   ]
  },
  {
   "cell_type": "code",
   "execution_count": 35,
   "id": "9ab8c690",
   "metadata": {},
   "outputs": [
    {
     "name": "stdout",
     "output_type": "stream",
     "text": [
      "Enter Your 4 digit number5656\n",
      "Enter Your Ammount10000\n",
      "Deposite Sucessfully\n"
     ]
    }
   ],
   "source": [
    "shivam.deposite()"
   ]
  },
  {
   "cell_type": "code",
   "execution_count": 70,
   "id": "a07e6e1f",
   "metadata": {},
   "outputs": [
    {
     "name": "stdout",
     "output_type": "stream",
     "text": [
      "Enter Your 4 digit number5656\n",
      "Invalid Pin\n"
     ]
    }
   ],
   "source": [
    "shivam.checkBalance()"
   ]
  },
  {
   "cell_type": "code",
   "execution_count": 37,
   "id": "81f1c8dc",
   "metadata": {},
   "outputs": [
    {
     "name": "stdout",
     "output_type": "stream",
     "text": [
      "Enter Your 4 digit number5656\n",
      "Enter Your Ammount5000\n",
      "Deposite Sucessfully\n"
     ]
    }
   ],
   "source": [
    "shivam.deposite()"
   ]
  },
  {
   "cell_type": "code",
   "execution_count": 38,
   "id": "dffa89d6",
   "metadata": {},
   "outputs": [
    {
     "name": "stdout",
     "output_type": "stream",
     "text": [
      "Enter Your 4 digit number5656\n",
      "Your Current Balance Is:  15000\n"
     ]
    }
   ],
   "source": [
    "shivam.checkBalance()"
   ]
  },
  {
   "cell_type": "code",
   "execution_count": 39,
   "id": "37078bf5",
   "metadata": {},
   "outputs": [
    {
     "name": "stdout",
     "output_type": "stream",
     "text": [
      "Enter Your 4 digit number5656\n",
      "Enter Your Ammount2000\n",
      "Sucessfully Withdraw 2000\n"
     ]
    }
   ],
   "source": [
    "shivam.withdraw()"
   ]
  },
  {
   "cell_type": "code",
   "execution_count": 40,
   "id": "7e656a1c",
   "metadata": {},
   "outputs": [
    {
     "name": "stdout",
     "output_type": "stream",
     "text": [
      "Enter Your 4 digit number5656\n",
      "Your Current Balance Is:  13000\n"
     ]
    }
   ],
   "source": [
    "shivam.checkBalance()"
   ]
  },
  {
   "cell_type": "code",
   "execution_count": 41,
   "id": "2abc1892",
   "metadata": {},
   "outputs": [
    {
     "name": "stdout",
     "output_type": "stream",
     "text": [
      "Enter Your 4 digit number5656\n",
      "Enter Your Ammount15000\n",
      "insufficient Balance\n"
     ]
    }
   ],
   "source": [
    "shivam.withdraw()"
   ]
  },
  {
   "cell_type": "markdown",
   "id": "a12cd94b",
   "metadata": {},
   "source": [
    "<img src=\"https://www.machinelearningplus.com/wp-content/uploads/2021/04/step-1.svg\" width=200 />"
   ]
  },
  {
   "cell_type": "code",
   "execution_count": 44,
   "id": "52c24de0",
   "metadata": {},
   "outputs": [],
   "source": [
    "shivansh = sbi.Atm()"
   ]
  },
  {
   "cell_type": "code",
   "execution_count": 45,
   "id": "c9a28efd",
   "metadata": {},
   "outputs": [
    {
     "name": "stdout",
     "output_type": "stream",
     "text": [
      "Hi welcome to SBI bank\n",
      "Enter your 4 digit pin: 9090\n",
      "Congrsts Your pin is created\n"
     ]
    }
   ],
   "source": [
    "shivansh.activate_card()"
   ]
  },
  {
   "cell_type": "code",
   "execution_count": 47,
   "id": "d1ddf0d0",
   "metadata": {},
   "outputs": [
    {
     "name": "stdout",
     "output_type": "stream",
     "text": [
      "Enter Your 4 digit number9090\n",
      "Enter Your Ammount800\n",
      "Deposite Sucessfully\n"
     ]
    }
   ],
   "source": [
    "shivansh.deposite()"
   ]
  },
  {
   "cell_type": "code",
   "execution_count": 48,
   "id": "e80c3191",
   "metadata": {},
   "outputs": [
    {
     "name": "stdout",
     "output_type": "stream",
     "text": [
      "Enter Your 4 digit number9090\n",
      "Your Current Balance Is:  800\n"
     ]
    }
   ],
   "source": [
    "shivansh.checkBalance()"
   ]
  },
  {
   "cell_type": "code",
   "execution_count": 49,
   "id": "d3b594a1",
   "metadata": {},
   "outputs": [
    {
     "name": "stdout",
     "output_type": "stream",
     "text": [
      "Enter Your 4 digit number9090\n",
      "Enter Your Ammount100\n",
      "Sucessfully Withdraw 100\n"
     ]
    }
   ],
   "source": [
    "shivansh.withdraw()"
   ]
  },
  {
   "cell_type": "code",
   "execution_count": 50,
   "id": "ca51f4cc",
   "metadata": {},
   "outputs": [
    {
     "name": "stdout",
     "output_type": "stream",
     "text": [
      "Enter Your 4 digit number9090\n",
      "Your Current Balance Is:  700\n"
     ]
    }
   ],
   "source": [
    "shivansh.checkBalance()"
   ]
  },
  {
   "cell_type": "markdown",
   "id": "e0439491",
   "metadata": {},
   "source": [
    "## If i check shivam balance what you think it is replace by shivansh balance(700) or still shivam balance is 13000."
   ]
  },
  {
   "cell_type": "code",
   "execution_count": 51,
   "id": "e643a729",
   "metadata": {},
   "outputs": [
    {
     "name": "stdout",
     "output_type": "stream",
     "text": [
      "Enter Your 4 digit number5656\n",
      "Your Current Balance Is:  13000\n"
     ]
    }
   ],
   "source": [
    "shivam.checkBalance()"
   ]
  },
  {
   "cell_type": "markdown",
   "id": "e9cc9ab0",
   "metadata": {},
   "source": [
    "## That's a beauty of oops even without using database you are able to store multiple values for the same variable."
   ]
  },
  {
   "cell_type": "code",
   "execution_count": 60,
   "id": "366a7f6f",
   "metadata": {},
   "outputs": [],
   "source": [
    "class Car:\n",
    "    # Data\n",
    "    color=None \n",
    "    top_speed=None \n",
    "    \n",
    "    # Function\n",
    "    def get_info(self,x,y):\n",
    "        \n",
    "        self.color=x\n",
    "        self.top_speed=y\n",
    "        \n",
    "        print(\"You have a\",self.color,\"car can with a top speed of\",self.top_speed)\n",
    "    \n",
    "    def calAvgSpeed(self,km,t):\n",
    "       \n",
    "        \n",
    "        speed=float(km/t) \n",
    "        \n",
    "        print(\"Speed of car\",speed)\n",
    "wagonr=Car()\n",
    "wagonr.color=\"blue\"\n",
    "maruti=Car()\n",
    "maruti.color=\"red\""
   ]
  },
  {
   "cell_type": "markdown",
   "id": "1ba69557",
   "metadata": {},
   "source": [
    "- VR Visual Represent for understand above line.\n",
    "https://pythontutor.com/live.html#code=class%20Car%3A%0A%20%20%20%20%23%20Data%0A%20%20%20%20color%3DNone%20%0A%20%20%20%20top_speed%3DNone%20%0A%20%20%20%20%0A%20%20%20%20%23%20Function%0A%20%20%20%20def%20get_info%28self,x,y%29%3A%0A%20%20%20%20%20%20%20%20%0A%20%20%20%20%20%20%20%20self.color%3Dx%0A%20%20%20%20%20%20%20%20self.top_speed%3Dy%0A%20%20%20%20%20%20%20%20%0A%20%20%20%20%20%20%20%20print%28%22You%20have%20a%22,self.color,%22car%20can%20with%20a%20top%20speed%20of%22,self.top_speed%29%0A%20%20%20%20%0A%20%20%20%20def%20calAvgSpeed%28self,km,t%29%3A%0A%20%20%20%20%20%20%20%0A%20%20%20%20%20%20%20%20%0A%20%20%20%20%20%20%20%20speed%3Dfloat%28km/t%29%20%0A%20%20%20%20%20%20%20%20%0A%20%20%20%20%20%20%20%20print%28%22Speed%20of%20car%22,speed%29%0Awagonr%3DCar%28%29%0Awagonr.color%3D%22blue%22%0Amaruti%3DCar%28%29%0Amaruti.color%3D%22red%22%0A&cumulative=false&curInstr=5&heapPrimitives=nevernest&mode=display&origin=opt-live.js&py=3&rawInputLstJSON=%5B%5D&textReferences=false"
   ]
  },
  {
   "cell_type": "markdown",
   "id": "3dafacb9",
   "metadata": {},
   "source": [
    "##  Note:-❤️ <br>Multiple obeject ek hi class ke data or function ko access kr rahe hain aur sb kuch एक समय में ek sath memory me ho raha hain."
   ]
  },
  {
   "cell_type": "markdown",
   "id": "2722f8f7",
   "metadata": {},
   "source": [
    "## Method:- Function write inside class is called Method."
   ]
  },
  {
   "cell_type": "markdown",
   "id": "0cc9f6e1",
   "metadata": {},
   "source": [
    "# Magic Method:-\n",
    "- Magic methods in Python are the special methods that start and end with the double underscores. They are also called dunder methods ❤️<br>\n",
    "\n",
    "<img src=\"data:image/jpeg;base64,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\" />\n",
    "\n",
    "# The Constructor:-  ❤️<br>It is a magic method which is automatically invoke(call) once the object of the class is created.\n",
    "- _ _init_ _()"
   ]
  },
  {
   "cell_type": "code",
   "execution_count": 63,
   "id": "6a7e4285",
   "metadata": {},
   "outputs": [],
   "source": [
    "class Atm:\n",
    "    # Data\n",
    "    pin=None\n",
    "    bal=0\n",
    "    \n",
    "    # Function\n",
    "    def __init__(self):\n",
    "        print(\"Hi welcome to SBI bank\")\n",
    "        self.pin=input(\"Enter your 4 digit pin: \") # access class variable use self.\n",
    "        print(\"Congrsts Your pin is created\")\n",
    "        \n",
    "    def checkBalance(self):\n",
    "        temp = input(\"Enter Your 4 digit number\")\n",
    "        if temp==self.pin:\n",
    "            print(\"Your Current Balance Is: \",self.bal)\n",
    "        else:\n",
    "            print(\"Invalid Pin\")\n",
    "    def deposite(self):\n",
    "        temp = input(\"Enter Your 4 digit number\")\n",
    "        if temp==self.pin:\n",
    "            ammout=int(input(\"Enter Your Ammount\"))\n",
    "            self.bal=self.bal+ammout\n",
    "            print(\"Deposite Sucessfully\")\n",
    "        else:\n",
    "            print(\"Invalid Pin\")\n",
    "            \n",
    "    def withdraw(self):\n",
    "        temp = input(\"Enter Your 4 digit number\")\n",
    "        if temp==self.pin:\n",
    "            ammout=int(input(\"Enter Your Ammount\"))\n",
    "            if ammout < self.bal:\n",
    "                self.bal=self.bal-ammout\n",
    "                print(\"Sucessfully Withdraw\",ammout)\n",
    "            else:\n",
    "                print(\"insufficient Balance\")\n",
    "        else:\n",
    "            print(\"Invalid Pin\")"
   ]
  },
  {
   "cell_type": "code",
   "execution_count": 64,
   "id": "d59187c4",
   "metadata": {},
   "outputs": [
    {
     "name": "stdout",
     "output_type": "stream",
     "text": [
      "Hi welcome to SBI bank\n",
      "Enter your 4 digit pin: 5890\n",
      "Congrsts Your pin is created\n"
     ]
    }
   ],
   "source": [
    "riya=Atm()"
   ]
  },
  {
   "cell_type": "code",
   "execution_count": 65,
   "id": "91f13df5",
   "metadata": {},
   "outputs": [
    {
     "data": {
      "text/plain": [
       "'5890'"
      ]
     },
     "execution_count": 65,
     "metadata": {},
     "output_type": "execute_result"
    }
   ],
   "source": [
    "riya.pin"
   ]
  },
  {
   "cell_type": "code",
   "execution_count": 66,
   "id": "a813baa8",
   "metadata": {},
   "outputs": [
    {
     "data": {
      "text/plain": [
       "0"
      ]
     },
     "execution_count": 66,
     "metadata": {},
     "output_type": "execute_result"
    }
   ],
   "source": [
    "riya.bal"
   ]
  },
  {
   "cell_type": "code",
   "execution_count": 79,
   "id": "770f81ea",
   "metadata": {},
   "outputs": [
    {
     "name": "stdout",
     "output_type": "stream",
     "text": [
      "<class '__main__.Atm'>\n"
     ]
    }
   ],
   "source": [
    "print(type(riya))"
   ]
  },
  {
   "cell_type": "code",
   "execution_count": 94,
   "id": "84e28228",
   "metadata": {},
   "outputs": [
    {
     "name": "stdout",
     "output_type": "stream",
     "text": [
      "Enter Your 4 digit number5890\n",
      "Enter Your Ammount500\n",
      "Deposite Sucessfully\n"
     ]
    }
   ],
   "source": [
    "riya.deposite()"
   ]
  },
  {
   "cell_type": "code",
   "execution_count": 68,
   "id": "75f8bf92",
   "metadata": {},
   "outputs": [
    {
     "data": {
      "text/plain": [
       "500"
      ]
     },
     "execution_count": 68,
     "metadata": {},
     "output_type": "execute_result"
    }
   ],
   "source": [
    "riya.bal"
   ]
  },
  {
   "cell_type": "code",
   "execution_count": 93,
   "id": "5a54114f",
   "metadata": {},
   "outputs": [
    {
     "name": "stdout",
     "output_type": "stream",
     "text": [
      "<__main__.Atm object at 0x7f8e005e0d90>\n"
     ]
    }
   ],
   "source": [
    "# Python object ke location ko return kr raha hain. because hum ye python ko nahi \n",
    "# bataye ki return kya krna hain.\n",
    "print(riya)"
   ]
  },
  {
   "cell_type": "markdown",
   "id": "b2a60ae9",
   "metadata": {},
   "source": [
    "# When you use the print() function to display the object, the print() function shows the memory address of that object.<br>Sometimes, it’s useful to have a string representation of an object. To customize the string representation of a class instance, the class needs to implement the __str__ magic method."
   ]
  },
  {
   "cell_type": "code",
   "execution_count": 161,
   "id": "0368a8a0",
   "metadata": {},
   "outputs": [],
   "source": [
    "class Fraction:\n",
    "    num=None\n",
    "    denum=None\n",
    "    \n",
    "    \n",
    "    def __init__(self,x,y):\n",
    "        self.num=int(x) \n",
    "        self.denum=int(y)\n",
    "        \n",
    "    def __str__(self):\n",
    "        return \"{0}/{1}\".format(self.num,self.denum)\n",
    "    \n",
    "    def __add__(self,other):\n",
    "        tempN=self.num*other.denum+self.denum*other.num\n",
    "        tempd=self.denum*other.denum\n",
    "        return Fraction(tempN,tempd)\n",
    "    \n",
    "    def __sub__(self,other):\n",
    "        tempN=self.num*other.denum-self.denum*other.num\n",
    "        tempd=self.denum*other.denum\n",
    "        return Fraction(tempN,tempd) \n",
    "    \n",
    "    def __mul__(self,other):\n",
    "        tempN=self.num**other.num\n",
    "        tempd=self.denum*other.denum\n",
    "        return Fraction(tempN,tempd)\n",
    "    \n",
    "    def __truediv__(self,other): ## self aur other dono object hain.\n",
    "        tempN=self.num*other.denum\n",
    "        tempd=self.denum*other.num\n",
    "        return Fraction(tempN,tempd)"
   ]
  },
  {
   "cell_type": "code",
   "execution_count": 162,
   "id": "930d623a",
   "metadata": {},
   "outputs": [],
   "source": [
    "a = Fraction(5,6) # a is an object but which type"
   ]
  },
  {
   "cell_type": "code",
   "execution_count": 163,
   "id": "0035efe0",
   "metadata": {},
   "outputs": [
    {
     "name": "stdout",
     "output_type": "stream",
     "text": [
      "<class '__main__.Fraction'>\n"
     ]
    }
   ],
   "source": [
    "print(type(a))"
   ]
  },
  {
   "cell_type": "code",
   "execution_count": 164,
   "id": "243943eb",
   "metadata": {},
   "outputs": [
    {
     "name": "stdout",
     "output_type": "stream",
     "text": [
      "5/6\n"
     ]
    }
   ],
   "source": [
    "print(a)"
   ]
  },
  {
   "cell_type": "code",
   "execution_count": 165,
   "id": "fc2517f9",
   "metadata": {},
   "outputs": [],
   "source": [
    "b=Fraction(8,9) "
   ]
  },
  {
   "cell_type": "code",
   "execution_count": 166,
   "id": "de227e40",
   "metadata": {},
   "outputs": [
    {
     "name": "stdout",
     "output_type": "stream",
     "text": [
      "8/9\n"
     ]
    }
   ],
   "source": [
    "print(b)"
   ]
  },
  {
   "cell_type": "code",
   "execution_count": 167,
   "id": "278137b0",
   "metadata": {},
   "outputs": [
    {
     "name": "stdout",
     "output_type": "stream",
     "text": [
      "93/54\n"
     ]
    }
   ],
   "source": [
    "print(a+b) # we are not able to directly add two object."
   ]
  },
  {
   "cell_type": "code",
   "execution_count": 168,
   "id": "61d17eca",
   "metadata": {},
   "outputs": [
    {
     "name": "stdout",
     "output_type": "stream",
     "text": [
      "-3/54\n"
     ]
    }
   ],
   "source": [
    "print(a-b)"
   ]
  },
  {
   "cell_type": "code",
   "execution_count": 169,
   "id": "8f36bf01",
   "metadata": {},
   "outputs": [
    {
     "name": "stdout",
     "output_type": "stream",
     "text": [
      "390625/54\n"
     ]
    }
   ],
   "source": [
    "print(a*b)"
   ]
  },
  {
   "cell_type": "code",
   "execution_count": 170,
   "id": "83296b84",
   "metadata": {},
   "outputs": [
    {
     "name": "stdout",
     "output_type": "stream",
     "text": [
      "45/48\n"
     ]
    }
   ],
   "source": [
    "print(a/b)"
   ]
  },
  {
   "cell_type": "markdown",
   "id": "e09d3445",
   "metadata": {},
   "source": [
    "## _ _add_ _(self, other) method returns a new object that represents the sum of two objects."
   ]
  },
  {
   "cell_type": "markdown",
   "id": "26c91044",
   "metadata": {},
   "source": [
    "-VR \n",
    "https://pythontutor.com/live.html#code=class%20Fraction%3A%0A%20%20%20%20num%3DNone%0A%20%20%20%20denum%3DNone%0A%20%20%20%20%0A%20%20%20%20%0A%20%20%20%20def%20__init__%28self,x,y%29%3A%0A%20%20%20%20%20%20%20%20self.num%3Dint%28x%29%20%0A%20%20%20%20%20%20%20%20self.denum%3Dint%28y%29%0A%20%20%20%20%20%20%20%20%0A%20%20%20%20def%20__str__%28self%29%3A%0A%20%20%20%20%20%20%20%20return%20%22%7B0%7D/%7B1%7D%22.format%28self.num,self.denum%29%0A%20%20%20%20%0A%20%20%20%20def%20__add__%28self,other%29%3A%0A%20%20%20%20%20%20%20%20tempN%3Dself.num*other.denum%2Bself.denum*other.num%0A%20%20%20%20%20%20%20%20tempd%3Dself.denum*other.denum%0A%20%20%20%20%20%20%20%20return%20Fraction%28tempN,tempd%29%0Aa%20%3D%20Fraction%285,6%29%0Aprint%28a%29%0Ab%3DFraction%288,9%29%20%0Aprint%28b%29%0Aprint%28a%2Bb%29%0A&cumulative=false&curInstr=32&heapPrimitives=nevernest&mode=display&origin=opt-live.js&py=3&rawInputLstJSON=%5B%5D&textReferences=false"
   ]
  },
  {
   "cell_type": "markdown",
   "id": "8538c692",
   "metadata": {},
   "source": [
    "# Self ❤️:- The self keyword is used to represent an object of the given class,and is used to access variables that belongs to the class."
   ]
  },
  {
   "cell_type": "markdown",
   "id": "5af3271a",
   "metadata": {},
   "source": [
    "<img src=\"data:image/jpeg;base64,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\" />\n",
    "\n",
    "\n",
    "<img src=\"data:image/png;base64,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\" />"
   ]
  },
  {
   "cell_type": "markdown",
   "id": "b2958008",
   "metadata": {},
   "source": [
    "# In every function why you pass self by-default.\n",
    "- Beacuse me hr function ko ye capability dena chata hu ki wo function us class ke kisi bhi aur function aur kisi bhi data ko use kr paye.agar hum self ka use nahi krte to hum upper wale code de num aur denum ka values changes nahi kr pate."
   ]
  },
  {
   "cell_type": "markdown",
   "id": "c5f4761f",
   "metadata": {},
   "source": [
    "# Benefits of oops ❤️:-\n",
    "- 1. Ease(आराम) of coding.\n",
    "- 2. Modularity- Code are divied into module.\n",
    "- 3. Reusability\n",
    "- 4. Readability\n",
    "- 5. Efficient"
   ]
  },
  {
   "cell_type": "code",
   "execution_count": 35,
   "id": "47a8b7f5",
   "metadata": {},
   "outputs": [],
   "source": [
    "class Cat:\n",
    "    def __init__(self,x,y):\n",
    "        \n",
    "        \"\"\"In X name and In y age is insert.\"\"\"\n",
    "        \n",
    "        self.x=x\n",
    "        self.y=y\n",
    "        \n",
    "    def info(self):\n",
    "        print(\"My name is {0} and my age is {1}\".format(self.x,self.y))\n",
    "        #print(f\"I am a cat. My name is {self.name}. I am {self.age} years old.\")\n",
    "        \n",
    "    def sound(self):\n",
    "        print(\"Mew\")"
   ]
  },
  {
   "cell_type": "code",
   "execution_count": 36,
   "id": "e6965ed0",
   "metadata": {},
   "outputs": [],
   "source": [
    "c1=Cat(\"ANdu\",90)"
   ]
  },
  {
   "cell_type": "code",
   "execution_count": 37,
   "id": "426407d7",
   "metadata": {},
   "outputs": [
    {
     "name": "stdout",
     "output_type": "stream",
     "text": [
      "Mew\n"
     ]
    }
   ],
   "source": [
    "c1.sound()"
   ]
  },
  {
   "cell_type": "code",
   "execution_count": 38,
   "id": "b0ccf23e",
   "metadata": {},
   "outputs": [
    {
     "name": "stdout",
     "output_type": "stream",
     "text": [
      "My name is ANdu and my age is 90\n"
     ]
    }
   ],
   "source": [
    "c1.info()"
   ]
  },
  {
   "cell_type": "code",
   "execution_count": 39,
   "id": "ef430724",
   "metadata": {},
   "outputs": [
    {
     "data": {
      "text/plain": [
       "'ANdu'"
      ]
     },
     "execution_count": 39,
     "metadata": {},
     "output_type": "execute_result"
    }
   ],
   "source": [
    "c1.x"
   ]
  },
  {
   "cell_type": "code",
   "execution_count": 40,
   "id": "420d1e3b",
   "metadata": {},
   "outputs": [
    {
     "data": {
      "text/plain": [
       "90"
      ]
     },
     "execution_count": 40,
     "metadata": {},
     "output_type": "execute_result"
    }
   ],
   "source": [
    "c1.y"
   ]
  },
  {
   "cell_type": "markdown",
   "id": "a9cfbd7e",
   "metadata": {},
   "source": [
    "## If you have a requirement to send the values whenever i create the object that time you written the variable inside constructor other wise you write variable inside class."
   ]
  },
  {
   "cell_type": "code",
   "execution_count": null,
   "id": "fccf7e94",
   "metadata": {},
   "outputs": [],
   "source": [
    "class Man:\n",
    "    def __init__(self,name,age): \n",
    "        self.name=name\n",
    "        self.age=age\n",
    "\n",
    "    def info(self):\n",
    "        print(f\"Hi my name is {self.name} and my age is {self.age}\")"
   ]
  },
  {
   "cell_type": "code",
   "execution_count": 45,
   "id": "6bdd4a8f",
   "metadata": {},
   "outputs": [],
   "source": [
    "m1= Man(\"Shivansh\",55)"
   ]
  },
  {
   "cell_type": "code",
   "execution_count": 47,
   "id": "988023a6",
   "metadata": {},
   "outputs": [
    {
     "name": "stdout",
     "output_type": "stream",
     "text": [
      "Hi my name is Shivansh and my age is 55\n"
     ]
    }
   ],
   "source": [
    "m1.info()"
   ]
  },
  {
   "cell_type": "code",
   "execution_count": 48,
   "id": "457c2cdf",
   "metadata": {},
   "outputs": [],
   "source": [
    "x1=Man(\"Shivam\",90)"
   ]
  },
  {
   "cell_type": "code",
   "execution_count": 49,
   "id": "5ddabf71",
   "metadata": {},
   "outputs": [
    {
     "name": "stdout",
     "output_type": "stream",
     "text": [
      "Hi my name is Shivam and my age is 90\n"
     ]
    }
   ],
   "source": [
    "x1.info()"
   ]
  },
  {
   "cell_type": "code",
   "execution_count": 50,
   "id": "0950cc9d",
   "metadata": {},
   "outputs": [
    {
     "name": "stdout",
     "output_type": "stream",
     "text": [
      "Hi my name is Shivansh and my age is 55\n"
     ]
    }
   ],
   "source": [
    "m1.info()"
   ]
  },
  {
   "cell_type": "code",
   "execution_count": 58,
   "id": "a52a54ab",
   "metadata": {},
   "outputs": [],
   "source": [
    "class Woman:\n",
    "    name=None\n",
    "    age=0\n",
    "    def get_info(self,name,age):\n",
    "        self.name=name\n",
    "        self.age=age\n",
    "        print(f\"My name is {self.name} and my age is {self.age}\")"
   ]
  },
  {
   "cell_type": "code",
   "execution_count": 59,
   "id": "5fa3098d",
   "metadata": {},
   "outputs": [],
   "source": [
    "w1=Woman()"
   ]
  },
  {
   "cell_type": "code",
   "execution_count": 77,
   "id": "375e1e56",
   "metadata": {},
   "outputs": [
    {
     "data": {
      "text/plain": [
       "0"
      ]
     },
     "execution_count": 77,
     "metadata": {},
     "output_type": "execute_result"
    }
   ],
   "source": [
    "Woman().age"
   ]
  },
  {
   "cell_type": "code",
   "execution_count": 60,
   "id": "330e2363",
   "metadata": {},
   "outputs": [
    {
     "name": "stdout",
     "output_type": "stream",
     "text": [
      "My name is Riya and my age is 22\n"
     ]
    }
   ],
   "source": [
    "w1.get_info(\"Riya\",22)"
   ]
  },
  {
   "cell_type": "code",
   "execution_count": 63,
   "id": "a2328d0e",
   "metadata": {},
   "outputs": [
    {
     "data": {
      "text/plain": [
       "22"
      ]
     },
     "execution_count": 63,
     "metadata": {},
     "output_type": "execute_result"
    }
   ],
   "source": [
    "w1.age"
   ]
  },
  {
   "cell_type": "code",
   "execution_count": 66,
   "id": "39c02b5f",
   "metadata": {},
   "outputs": [],
   "source": [
    "w2=Woman()"
   ]
  },
  {
   "cell_type": "code",
   "execution_count": 67,
   "id": "4edcbaa8",
   "metadata": {},
   "outputs": [
    {
     "data": {
      "text/plain": [
       "0"
      ]
     },
     "execution_count": 67,
     "metadata": {},
     "output_type": "execute_result"
    }
   ],
   "source": [
    "w2.age"
   ]
  },
  {
   "cell_type": "code",
   "execution_count": 68,
   "id": "69fb257d",
   "metadata": {},
   "outputs": [
    {
     "name": "stdout",
     "output_type": "stream",
     "text": [
      "My name is Riyu and my age is 25\n"
     ]
    }
   ],
   "source": [
    "w2.get_info(\"Riyu\",25)"
   ]
  },
  {
   "cell_type": "code",
   "execution_count": 72,
   "id": "2efcf5e8",
   "metadata": {},
   "outputs": [
    {
     "data": {
      "text/plain": [
       "22"
      ]
     },
     "execution_count": 72,
     "metadata": {},
     "output_type": "execute_result"
    }
   ],
   "source": [
    "w1.age"
   ]
  },
  {
   "cell_type": "code",
   "execution_count": 73,
   "id": "1d8607e8",
   "metadata": {},
   "outputs": [
    {
     "data": {
      "text/plain": [
       "'Riya'"
      ]
     },
     "execution_count": 73,
     "metadata": {},
     "output_type": "execute_result"
    }
   ],
   "source": [
    "w1.name"
   ]
  },
  {
   "cell_type": "markdown",
   "id": "b9dd7912",
   "metadata": {},
   "source": [
    "# Instance Variable ❤️:-If the value of a variable varies from object to object, then such variables are called instance variables.\n",
    "- Ek aisa variable jiska value ek hi sath alag alag set ho paye us variable ko instance variable bolte hain."
   ]
  },
  {
   "cell_type": "markdown",
   "id": "121c0c37",
   "metadata": {},
   "source": [
    "<img src=\"data:image/jpeg;base64,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\" />"
   ]
  },
  {
   "cell_type": "markdown",
   "id": "cf072221",
   "metadata": {},
   "source": [
    "<img src=\"data:image/jpeg;base64,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\" />"
   ]
  }
 ],
 "metadata": {
  "kernelspec": {
   "display_name": "Python 3.8.8 64-bit ('base': conda)",
   "language": "python",
   "name": "python388jvsc74a57bd02c7ffa9c538f0bfb5740c89a215bcbde02033924243f3d233f0c9916449df403"
  },
  "language_info": {
   "codemirror_mode": {
    "name": "ipython",
    "version": 3
   },
   "file_extension": ".py",
   "mimetype": "text/x-python",
   "name": "python",
   "nbconvert_exporter": "python",
   "pygments_lexer": "ipython3",
   "version": "3.8.8"
  }
 },
 "nbformat": 4,
 "nbformat_minor": 5
}
